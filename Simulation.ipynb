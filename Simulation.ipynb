{
 "cells": [
  {
   "cell_type": "code",
   "execution_count": 1,
   "metadata": {},
   "outputs": [],
   "source": [
    "import numpy as np\n",
    "import h5py "
   ]
  },
  {
   "cell_type": "code",
   "execution_count": 2,
   "metadata": {},
   "outputs": [],
   "source": [
    "trajectory_file = h5py.File('LEFPositions.h5', mode='r')\n",
    "\n",
    "LEFNum = trajectory_file.attrs[\"LEFNum\"]  # number of LEFs\n",
    "LEFpositions = trajectory_file[\"positions\"]  # array of LEF positions  \n",
    "\n",
    "steps = 100 # MD steps per step of cohesin  (set to ~800 in real sims)"
   ]
  },
  {
   "cell_type": "code",
   "execution_count": 3,
   "metadata": {},
   "outputs": [
    {
     "name": "stdout",
     "output_type": "stream",
     "text": [
      "Length of the saved trajectory: 200\n"
     ]
    }
   ],
   "source": [
    "Nframes = LEFpositions.shape[0] # length of the saved trajectory (>25000 in real sims)\n",
    "print(f'Length of the saved trajectory: {Nframes}')"
   ]
  },
  {
   "cell_type": "code",
   "execution_count": 4,
   "metadata": {},
   "outputs": [],
   "source": [
    "block = 0  # starting block \n",
    "\n",
    "# new parameters because some things changed \n",
    "saveEveryBlocks = 10   # save every 10 blocks (saving every block is now too much almost)\n",
    "restartSimulationEveryBlocks = 100\n",
    "\n",
    "# parameters for smc bonds\n",
    "smcBondWiggleDist = 0.2\n",
    "smcBondDist = 0.5\n",
    "\n",
    "# assertions for easy managing code below \n",
    "assert (Nframes % restartSimulationEveryBlocks) == 0 \n",
    "assert (restartSimulationEveryBlocks % saveEveryBlocks) == 0\n",
    "\n",
    "savesPerSim = restartSimulationEveryBlocks // saveEveryBlocks\n",
    "simInitsTotal  = (Nframes) // restartSimulationEveryBlocks"
   ]
  },
  {
   "cell_type": "markdown",
   "metadata": {},
   "source": [
    "# Loop extrusion bond updater"
   ]
  },
  {
   "cell_type": "code",
   "execution_count": 5,
   "metadata": {},
   "outputs": [],
   "source": [
    "class bondUpdater(object):\n",
    "\n",
    "    def __init__(self, LEFpositions):\n",
    "        \"\"\"\n",
    "        :param smcTransObject: smc translocator object to work with\n",
    "        \"\"\"\n",
    "        self.LEFpositions = LEFpositions\n",
    "        self.curtime  = 0\n",
    "        self.allBonds = []\n",
    "\n",
    "    def setParams(self, activeParamDict, inactiveParamDict):\n",
    "        \"\"\"\n",
    "        A method to set parameters for bonds.\n",
    "        It is a separate method because you may want to have a Simulation object already existing\n",
    "\n",
    "        :param activeParamDict: a dict (argument:value) of addBond arguments for active bonds\n",
    "        :param inactiveParamDict:  a dict (argument:value) of addBond arguments for inactive bonds\n",
    "\n",
    "        \"\"\"\n",
    "        self.activeParamDict = activeParamDict\n",
    "        self.inactiveParamDict = inactiveParamDict\n",
    "\n",
    "\n",
    "    def setup(self, bondForce,  blocks=100, smcStepsPerBlock=1):\n",
    "        \"\"\"\n",
    "        A method that milks smcTranslocator object\n",
    "        and creates a set of unique bonds, etc.\n",
    "\n",
    "        :param bondForce: a bondforce object (new after simulation restart!)\n",
    "        :param blocks: number of blocks to precalculate\n",
    "        :param smcStepsPerBlock: number of smcTranslocator steps per block\n",
    "        :return:\n",
    "        \"\"\"\n",
    "\n",
    "\n",
    "        if len(self.allBonds) != 0:\n",
    "            raise ValueError(\"Not all bonds were used; {0} sets left\".format(len(self.allBonds)))\n",
    "\n",
    "        self.bondForce = bondForce\n",
    "\n",
    "        #precalculating all bonds\n",
    "        allBonds = []\n",
    "        \n",
    "        loaded_positions  = self.LEFpositions[self.curtime : self.curtime+blocks]\n",
    "        allBonds = [[(int(loaded_positions[i, j, 0]), int(loaded_positions[i, j, 1])) \n",
    "                        for j in range(loaded_positions.shape[1])] for i in range(blocks)]\n",
    "\n",
    "        self.allBonds = allBonds\n",
    "        self.uniqueBonds = list(set(sum(allBonds, [])))\n",
    "\n",
    "        #adding forces and getting bond indices\n",
    "        self.bondInds = []\n",
    "        self.curBonds = allBonds.pop(0)\n",
    "\n",
    "        for bond in self.uniqueBonds:\n",
    "            paramset = self.activeParamDict if (bond in self.curBonds) else self.inactiveParamDict\n",
    "            ind = bondForce.addBond(bond[0], bond[1], **paramset) # changed from addBond\n",
    "            self.bondInds.append(ind)\n",
    "        self.bondToInd = {i:j for i,j in zip(self.uniqueBonds, self.bondInds)}\n",
    "        \n",
    "        self.curtime += blocks \n",
    "        \n",
    "        return self.curBonds,[]\n",
    "\n",
    "\n",
    "    def step(self, context, verbose=False):\n",
    "        \"\"\"\n",
    "        Update the bonds to the next step.\n",
    "        It sets bonds for you automatically!\n",
    "        :param context:  context\n",
    "        :return: (current bonds, previous step bonds); just for reference\n",
    "        \"\"\"\n",
    "        if len(self.allBonds) == 0:\n",
    "            raise ValueError(\"No bonds left to run; you should restart simulation and run setup  again\")\n",
    "\n",
    "        pastBonds = self.curBonds\n",
    "        self.curBonds = self.allBonds.pop(0)  # getting current bonds\n",
    "        bondsRemove = [i for i in pastBonds if i not in self.curBonds]\n",
    "        bondsAdd = [i for i in self.curBonds if i not in pastBonds]\n",
    "        bondsStay = [i for i in pastBonds if i in self.curBonds]\n",
    "        if verbose:\n",
    "            print(\"{0} bonds stay, {1} new bonds, {2} bonds removed\".format(len(bondsStay),\n",
    "                                                                            len(bondsAdd), len(bondsRemove)))\n",
    "        bondsToChange = bondsAdd + bondsRemove\n",
    "        bondsIsAdd = [True] * len(bondsAdd) + [False] * len(bondsRemove)\n",
    "        for bond, isAdd in zip(bondsToChange, bondsIsAdd):\n",
    "            ind = self.bondToInd[bond]\n",
    "            paramset = self.activeParamDict if isAdd else self.inactiveParamDict\n",
    "            self.bondForce.setBondParameters(ind, bond[0], bond[1], **paramset)  # actually updating bonds\n",
    "        self.bondForce.updateParametersInContext(context)  # now run this to update things in the context\n",
    "        return self.curBonds, pastBonds\n",
    "    \n",
    "\n",
    "milker = bondUpdater(LEFpositions)"
   ]
  },
  {
   "cell_type": "code",
   "execution_count": 6,
   "metadata": {},
   "outputs": [],
   "source": [
    "density = 0.2  # density of the PBC box\n",
    "num_chains = 3  # simulation uses some equivalent chains  (5 in a real sim)"
   ]
  },
  {
   "cell_type": "code",
   "execution_count": 7,
   "metadata": {},
   "outputs": [
    {
     "name": "stdout",
     "output_type": "stream",
     "text": [
      "N_chain: 100\n",
      "N: 300\n"
     ]
    }
   ],
   "source": [
    "# compartment labels\n",
    "oneChainMonomerTypes = np.zeros(100).astype(int)\n",
    "oneChainMonomerTypes[:20] = 1\n",
    "oneChainMonomerTypes[30:40] = 2\n",
    "\n",
    "monomerTypes = np.tile(oneChainMonomerTypes, num_chains)\n",
    "N_chain = len(oneChainMonomerTypes)  \n",
    "N = len(monomerTypes)\n",
    "\n",
    "print(f'N_chain: {N_chain}')  # ~8000 in a real sim\n",
    "print(f'N: {N}')   # ~40000 in a real sim\n",
    "\n",
    "assert N == trajectory_file.attrs[\"N\"]"
   ]
  },
  {
   "cell_type": "code",
   "execution_count": 8,
   "metadata": {},
   "outputs": [],
   "source": [
    "import polychrom\n",
    "from polychrom.starting_conformations import grow_cubic\n",
    "from polychrom.hdf5_format import HDF5Reporter, list_URIs, load_URI, load_hdf5_file\n",
    "from polychrom.simulation import Simulation\n",
    "from polychrom import polymerutils\n",
    "from polychrom import forces\n",
    "from polychrom import forcekits\n",
    "import time"
   ]
  },
  {
   "cell_type": "code",
   "execution_count": 9,
   "metadata": {},
   "outputs": [
    {
     "name": "stdout",
     "output_type": "stream",
     "text": [
      "[[0.  0.  0. ]\n",
      " [0.  0.2 0.2]\n",
      " [0.  0.2 0.4]]\n"
     ]
    }
   ],
   "source": [
    "data = grow_cubic(N,int((N/(density*1.2))**0.333))  # starting conformation\n",
    "reporter = HDF5Reporter(folder='conformations/', max_data_length=50)\n",
    "\n",
    "PBC_width = (N/density)**0.333\n",
    "\n",
    "# create chains\n",
    "chains = [(N_chain*(k),N_chain*(k+1),0) for k in range(num_chains)]\n",
    "\n",
    "# create interaction matrix\n",
    "interactionMatrix = np.array([[0, 0, 0], [0, 0.2, 0.2], [0, 0.2, 0.4]])\n",
    "print(interactionMatrix)\n",
    "attraction_radius = 1.5"
   ]
  },
  {
   "cell_type": "markdown",
   "metadata": {},
   "source": [
    "# Run the simulation"
   ]
  },
  {
   "cell_type": "code",
   "execution_count": 10,
   "metadata": {},
   "outputs": [
    {
     "name": "stderr",
     "output_type": "stream",
     "text": [
      "INFO:root:Performing local energy minimization\n",
      "INFO:root:adding force harmonic_bonds 0\n",
      "INFO:root:adding force angle 1\n",
      "INFO:root:Using periodic boundary conditions\n",
      "INFO:root:adding force heteropolymer_SSW 2\n",
      "INFO:root:Particles loaded. Potential energy is 3.763063\n",
      "INFO:root:before minimization eK=1.4037053071720857, eP=3.7630626486460526, time=0.0 ps\n"
     ]
    },
    {
     "name": "stdout",
     "output_type": "stream",
     "text": [
      "Exclude neighbouring chain particles from heteropolymer_SSW\n",
      "Number of exceptions: 297\n"
     ]
    },
    {
     "name": "stderr",
     "output_type": "stream",
     "text": [
      "INFO:root:Particles loaded. Potential energy is 0.496655\n",
      "INFO:root:after minimization eK=1.4037053071720857, eP=0.37554622415840055, time=0.0 ps\n",
      "INFO:root:block    0 pos[1]=[4.8 1.1 13.5] dr=4.93 t=97.2ps kin=4.42 pot=3.03 Rg=5.719 SPS=1000 dt=96.2fs dx=45.15pm \n",
      "INFO:root:block    1 pos[1]=[4.4 0.2 9.6] dr=4.28 t=193.1ps kin=3.43 pot=2.91 Rg=5.567 SPS=891 dt=95.9fs dx=39.65pm \n",
      "INFO:root:block    2 pos[1]=[5.1 -0.3 11.5] dr=4.82 t=292.1ps kin=2.40 pot=2.38 Rg=5.668 SPS=973 dt=106.4fs dx=36.84pm \n",
      "INFO:root:block    3 pos[1]=[3.6 -2.3 10.5] dr=4.48 t=398.5ps kin=2.40 pot=2.04 Rg=5.348 SPS=1067 dt=106.4fs dx=36.86pm \n",
      "INFO:root:block    4 pos[1]=[6.6 10.2 9.6] dr=4.90 t=504.9ps kin=2.94 pot=2.02 Rg=5.809 SPS=982 dt=106.4fs dx=40.77pm \n",
      "INFO:root:block    5 pos[1]=[4.2 9.7 5.9] dr=4.34 t=610.0ps kin=3.05 pot=2.45 Rg=5.597 SPS=980 dt=103.7fs dx=40.45pm \n",
      "INFO:root:block    6 pos[1]=[6.2 4.2 4.9] dr=5.06 t=713.6ps kin=2.66 pot=2.38 Rg=5.517 SPS=1032 dt=103.7fs dx=37.76pm \n",
      "INFO:root:block    7 pos[1]=[2.3 2.1 5.3] dr=4.11 t=817.3ps kin=2.34 pot=2.10 Rg=5.693 SPS=1133 dt=103.7fs dx=35.43pm \n",
      "INFO:root:block    8 pos[1]=[3.7 -1.2 5.4] dr=4.53 t=920.9ps kin=2.03 pot=2.09 Rg=5.623 SPS=916 dt=103.7fs dx=32.95pm \n",
      "INFO:root:block    9 pos[1]=[0.2 0.8 5.9] dr=4.22 t=1028.2ps kin=1.89 pot=1.81 Rg=5.758 SPS=1125 dt=113.2fs dx=34.72pm \n",
      "INFO:root:adding force harmonic_bonds 0\n",
      "INFO:root:adding force angle 1\n",
      "INFO:root:Using periodic boundary conditions\n",
      "INFO:root:adding force heteropolymer_SSW 2\n",
      "INFO:root:Particles loaded. Potential energy is 2.017188\n"
     ]
    },
    {
     "name": "stdout",
     "output_type": "stream",
     "text": [
      "Exclude neighbouring chain particles from heteropolymer_SSW\n",
      "Number of exceptions: 297\n"
     ]
    },
    {
     "name": "stderr",
     "output_type": "stream",
     "text": [
      "INFO:root:block    0 pos[1]=[-0.3 -1.0 7.6] dr=4.69 t=110.8ps kin=2.32 pot=2.02 Rg=5.862 SPS=1100 dt=109.9fs dx=37.40pm \n",
      "INFO:root:block    1 pos[1]=[2.0 0.2 6.1] dr=5.39 t=220.7ps kin=2.28 pot=1.97 Rg=5.538 SPS=887 dt=109.9fs dx=37.08pm \n",
      "INFO:root:block    2 pos[1]=[5.2 -2.8 4.7] dr=5.03 t=330.6ps kin=2.08 pot=1.98 Rg=5.548 SPS=929 dt=109.9fs dx=35.41pm \n",
      "INFO:root:block    3 pos[1]=[9.0 -4.4 7.6] dr=4.13 t=440.5ps kin=1.89 pot=1.64 Rg=5.931 SPS=1004 dt=109.9fs dx=33.75pm \n",
      "INFO:root:block    4 pos[1]=[7.9 -5.2 8.9] dr=3.94 t=553.5ps kin=1.51 pot=1.70 Rg=5.444 SPS=1054 dt=118.7fs dx=32.62pm \n",
      "INFO:root:block    5 pos[1]=[4.0 -6.4 8.3] dr=4.21 t=672.1ps kin=1.56 pot=1.57 Rg=5.526 SPS=1013 dt=118.7fs dx=33.13pm \n",
      "INFO:root:block    6 pos[1]=[5.8 -2.7 11.7] dr=4.48 t=790.8ps kin=1.89 pot=1.60 Rg=5.459 SPS=1031 dt=118.7fs dx=36.38pm \n",
      "INFO:root:block    7 pos[1]=[5.9 -4.9 14.2] dr=4.33 t=908.0ps kin=2.02 pot=1.78 Rg=5.414 SPS=1178 dt=114.5fs dx=36.35pm \n",
      "INFO:root:block    8 pos[1]=[6.6 -2.3 11.8] dr=4.56 t=1020.1ps kin=2.20 pot=1.84 Rg=5.884 SPS=1129 dt=110.0fs dx=36.48pm \n",
      "INFO:root:block    9 pos[1]=[7.5 -1.9 16.8] dr=4.36 t=1131.6ps kin=2.06 pot=1.74 Rg=5.660 SPS=917 dt=118.5fs dx=37.95pm \n"
     ]
    }
   ],
   "source": [
    "for iteration in range(simInitsTotal):\n",
    "    a = Simulation(N=N, \n",
    "                   error_tol=0.01, \n",
    "                   collision_rate=0.01, \n",
    "                   integrator =\"variableLangevin\", \n",
    "                   platform=\"CPU\", \n",
    "                   PBCbox=(PBC_width, PBC_width, PBC_width),\n",
    "                   reporters=[reporter])\n",
    "    a.set_data(data)\n",
    "    a.add_force(\n",
    "        polychrom.forcekits.polymer_chains(\n",
    "            a,\n",
    "            chains=chains,\n",
    "            nonbonded_force_func=polychrom.forces.heteropolymer_SSW,\n",
    "            nonbonded_force_kwargs={\n",
    "                'attractionEnergy': 0,  # base attraction energy for all monomers\n",
    "                'attractionRadius': attraction_radius,\n",
    "                'interactionMatrix': interactionMatrix,\n",
    "                'monomerTypes': monomerTypes,\n",
    "                'extraHardParticlesIdxs': []\n",
    "            },\n",
    "            bond_force_kwargs={\n",
    "                'bondLength': 1,\n",
    "                'bondWiggleDistance': 0.05\n",
    "            },\n",
    "            angle_force_kwargs={\n",
    "                'k': 1.5\n",
    "            }\n",
    "        )\n",
    "    )\n",
    "    \n",
    "    # ------------ initializing milker; adding bonds ---------\n",
    "    # copied from addBond\n",
    "    kbond = a.kbondScalingFactor / (smcBondWiggleDist ** 2)\n",
    "    bondDist = smcBondDist * a.length_scale\n",
    "\n",
    "    activeParams = {\"length\":bondDist,\"k\":kbond}\n",
    "    inactiveParams = {\"length\":bondDist, \"k\":0}\n",
    "    milker.setParams(activeParams, inactiveParams)\n",
    "     \n",
    "    # this step actually puts all bonds in and sets first bonds to be what they should be\n",
    "    milker.setup(bondForce=a.force_dict['harmonic_bonds'],\n",
    "                blocks=restartSimulationEveryBlocks)\n",
    "\n",
    "    # If your simulation does not start, consider using energy minimization below\n",
    "    if iteration == 0:\n",
    "        a.local_energy_minimization() \n",
    "    else:\n",
    "        a._apply_forces()\n",
    "    \n",
    "    for i in range(restartSimulationEveryBlocks):        \n",
    "        if i % saveEveryBlocks == (saveEveryBlocks - 1):  \n",
    "            a.do_block(steps=steps)\n",
    "        else:\n",
    "            a.integrator.step(steps)  # do steps without getting the positions from the GPU (faster)\n",
    "        if i < restartSimulationEveryBlocks - 1: \n",
    "            curBonds, pastBonds = milker.step(a.context)  # this updates bonds. You can do something with bonds here\n",
    "    data = a.get_data()  # save data and step, and delete the simulation\n",
    "    del a\n",
    "    \n",
    "    reporter.blocks_only = True  # Write output hdf5-files only for blocks\n",
    "    \n",
    "    time.sleep(0.2)  # wait 200ms for sanity (to let garbage collector do its magic)\n",
    "\n",
    "reporter.dump_data()"
   ]
  },
  {
   "cell_type": "markdown",
   "metadata": {},
   "source": [
    "# Visualize a conformation"
   ]
  },
  {
   "cell_type": "code",
   "execution_count": 11,
   "metadata": {},
   "outputs": [
    {
     "data": {
      "application/vnd.jupyter.widget-view+json": {
       "model_id": "bb3cf1a3195d4152a4274a6d7125d2f7",
       "version_major": 2,
       "version_minor": 0
      },
      "text/plain": [
       "_ColormakerRegistry()"
      ]
     },
     "metadata": {},
     "output_type": "display_data"
    }
   ],
   "source": [
    "import nglutils.nglutils as ngu"
   ]
  },
  {
   "cell_type": "code",
   "execution_count": 12,
   "metadata": {},
   "outputs": [
    {
     "data": {
      "text/plain": [
       "['conformations/blocks_0-19.h5::0',\n",
       " 'conformations/blocks_0-19.h5::1',\n",
       " 'conformations/blocks_0-19.h5::2',\n",
       " 'conformations/blocks_0-19.h5::3',\n",
       " 'conformations/blocks_0-19.h5::4',\n",
       " 'conformations/blocks_0-19.h5::5',\n",
       " 'conformations/blocks_0-19.h5::6',\n",
       " 'conformations/blocks_0-19.h5::7',\n",
       " 'conformations/blocks_0-19.h5::8',\n",
       " 'conformations/blocks_0-19.h5::9',\n",
       " 'conformations/blocks_0-19.h5::10',\n",
       " 'conformations/blocks_0-19.h5::11',\n",
       " 'conformations/blocks_0-19.h5::12',\n",
       " 'conformations/blocks_0-19.h5::13',\n",
       " 'conformations/blocks_0-19.h5::14',\n",
       " 'conformations/blocks_0-19.h5::15',\n",
       " 'conformations/blocks_0-19.h5::16',\n",
       " 'conformations/blocks_0-19.h5::17',\n",
       " 'conformations/blocks_0-19.h5::18',\n",
       " 'conformations/blocks_0-19.h5::19']"
      ]
     },
     "execution_count": 12,
     "metadata": {},
     "output_type": "execute_result"
    }
   ],
   "source": [
    "files = list_URIs('conformations/')\n",
    "files"
   ]
  },
  {
   "cell_type": "code",
   "execution_count": 13,
   "metadata": {},
   "outputs": [],
   "source": [
    "data = load_URI(files[19])\n",
    "atom_names = [chr(a+65) for a in monomerTypes]\n",
    "\n",
    "pos_in_box = data['pos']\n",
    "pos_in_box = pos_in_box % PBC_width\n",
    "pos_in_box = pos_in_box / 5\n",
    "\n",
    "top = ngu.mdtop_for_polymer(N, atom_names=atom_names, chains=chains, exclude_bonds=[k for k in range(N)])"
   ]
  },
  {
   "cell_type": "code",
   "execution_count": 14,
   "metadata": {},
   "outputs": [
    {
     "data": {
      "application/vnd.jupyter.widget-view+json": {
       "model_id": "211873eec44f492684445655319842f4",
       "version_major": 2,
       "version_minor": 0
      },
      "text/plain": [
       "NGLWidget()"
      ]
     },
     "metadata": {},
     "output_type": "display_data"
    }
   ],
   "source": [
    "view = ngu.xyz2nglview(pos_in_box, top=top)\n",
    "view"
   ]
  },
  {
   "cell_type": "code",
   "execution_count": 15,
   "metadata": {},
   "outputs": [],
   "source": [
    "view.clear_representations()\n",
    "ngu.rep_add.uniform(view, 0xff0000, ':.A')\n",
    "ngu.rep_add.uniform(view, 0x00ff00, ':.B')\n",
    "ngu.rep_add.uniform(view, 0x0000ff, ':.C')"
   ]
  },
  {
   "cell_type": "code",
   "execution_count": null,
   "metadata": {},
   "outputs": [],
   "source": []
  }
 ],
 "metadata": {
  "kernelspec": {
   "display_name": "Python 3",
   "language": "python",
   "name": "python3"
  },
  "language_info": {
   "codemirror_mode": {
    "name": "ipython",
    "version": 3
   },
   "file_extension": ".py",
   "mimetype": "text/x-python",
   "name": "python",
   "nbconvert_exporter": "python",
   "pygments_lexer": "ipython3",
   "version": "3.7.6"
  }
 },
 "nbformat": 4,
 "nbformat_minor": 4
}
